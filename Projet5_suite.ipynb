{
 "cells": [
  {
   "cell_type": "code",
   "execution_count": 1,
   "metadata": {},
   "outputs": [],
   "source": [
    "# coding: utf-8    #  par défaut l'encoding est en utf-8 pour python 3\n",
    "\n",
    "# Import des librairies\n",
    "import numpy as np\n",
    "import pandas as pd\n",
    "import seaborn as sns\n",
    "import matplotlib\n",
    "import matplotlib.pyplot as plt\n",
    "import pylab\n",
    "import re\n",
    "import time\n",
    "from sklearn import decomposition\n",
    "from sklearn import preprocessing\n",
    "from math import *\n",
    "from datetime import date\n"
   ]
  },
  {
   "cell_type": "code",
   "execution_count": 2,
   "metadata": {},
   "outputs": [],
   "source": [
    "# Changer la taille de police par défaut\n",
    "plt.rcParams.update({'font.size': 15})"
   ]
  },
  {
   "cell_type": "code",
   "execution_count": 3,
   "metadata": {},
   "outputs": [],
   "source": [
    "pd.set_option('display.max_row', 2000)\n",
    "pd.set_option('display.max_column', 300)\n",
    "pd.set_option('display.column_space', 200)\n",
    "\n",
    "pd.set_option('display.width', 10000)   # pas encore essayé\n"
   ]
  },
  {
   "cell_type": "code",
   "execution_count": 4,
   "metadata": {},
   "outputs": [
    {
     "data": {
      "application/javascript": [
       "IPython.OutputArea.auto_scroll_threshold = 50"
      ],
      "text/plain": [
       "<IPython.core.display.Javascript object>"
      ]
     },
     "metadata": {},
     "output_type": "display_data"
    }
   ],
   "source": [
    "%%javascript\n",
    "IPython.OutputArea.auto_scroll_threshold = 50\n"
   ]
  },
  {
   "cell_type": "markdown",
   "metadata": {},
   "source": [
    "### Clients"
   ]
  },
  {
   "cell_type": "code",
   "execution_count": 5,
   "metadata": {},
   "outputs": [
    {
     "name": "stdout",
     "output_type": "stream",
     "text": [
      "(99441, 5)\n"
     ]
    },
    {
     "data": {
      "text/html": [
       "<div>\n",
       "<style scoped>\n",
       "    .dataframe tbody tr th:only-of-type {\n",
       "        vertical-align: middle;\n",
       "    }\n",
       "\n",
       "    .dataframe tbody tr th {\n",
       "        vertical-align: top;\n",
       "    }\n",
       "\n",
       "    .dataframe thead th {\n",
       "        text-align: right;\n",
       "    }\n",
       "</style>\n",
       "<table border=\"1\" class=\"dataframe\">\n",
       "  <thead>\n",
       "    <tr style=\"text-align: right;\">\n",
       "      <th></th>\n",
       "      <th>customer_id</th>\n",
       "      <th>customer_unique_id</th>\n",
       "    </tr>\n",
       "  </thead>\n",
       "  <tbody>\n",
       "    <tr>\n",
       "      <th>0</th>\n",
       "      <td>06b8999e2fba1a1fbc88172c00ba8bc7</td>\n",
       "      <td>861eff4711a542e4b93843c6dd7febb0</td>\n",
       "    </tr>\n",
       "    <tr>\n",
       "      <th>1</th>\n",
       "      <td>18955e83d337fd6b2def6b18a428ac77</td>\n",
       "      <td>290c77bc529b7ac935b93aa66c333dc3</td>\n",
       "    </tr>\n",
       "  </tbody>\n",
       "</table>\n",
       "</div>"
      ],
      "text/plain": [
       "                        customer_id                customer_unique_id\n",
       "0  06b8999e2fba1a1fbc88172c00ba8bc7  861eff4711a542e4b93843c6dd7febb0\n",
       "1  18955e83d337fd6b2def6b18a428ac77  290c77bc529b7ac935b93aa66c333dc3"
      ]
     },
     "execution_count": 5,
     "metadata": {},
     "output_type": "execute_result"
    }
   ],
   "source": [
    "customers = pd.read_csv(\"customers.csv\")\n",
    "print(customers.shape)\n",
    "\n",
    "# A RETENIR :   customer_id , customer_unique_id\n",
    "customers = customers.drop(['customer_zip_code_prefix', 'customer_city', 'customer_state'], 1)\n",
    "customers.head(2)\n"
   ]
  },
  {
   "cell_type": "markdown",
   "metadata": {},
   "source": [
    "### Commandes"
   ]
  },
  {
   "cell_type": "code",
   "execution_count": 6,
   "metadata": {},
   "outputs": [
    {
     "name": "stdout",
     "output_type": "stream",
     "text": [
      "Shape : (99441, 8)\n",
      "Après suppression des commandes sans 'date' (98188, 3)\n"
     ]
    },
    {
     "data": {
      "text/html": [
       "<div>\n",
       "<style scoped>\n",
       "    .dataframe tbody tr th:only-of-type {\n",
       "        vertical-align: middle;\n",
       "    }\n",
       "\n",
       "    .dataframe tbody tr th {\n",
       "        vertical-align: top;\n",
       "    }\n",
       "\n",
       "    .dataframe thead th {\n",
       "        text-align: right;\n",
       "    }\n",
       "</style>\n",
       "<table border=\"1\" class=\"dataframe\">\n",
       "  <thead>\n",
       "    <tr style=\"text-align: right;\">\n",
       "      <th></th>\n",
       "      <th>order_id</th>\n",
       "      <th>date</th>\n",
       "      <th>customer_id</th>\n",
       "    </tr>\n",
       "  </thead>\n",
       "  <tbody>\n",
       "    <tr>\n",
       "      <th>0</th>\n",
       "      <td>e481f51cbdc54678b7cc49136f2d6af7</td>\n",
       "      <td>2017-10-02 11:07:15</td>\n",
       "      <td>7c396fd4830fd04220f754e42b4e5bff</td>\n",
       "    </tr>\n",
       "    <tr>\n",
       "      <th>1</th>\n",
       "      <td>53cdb2fc8bc7dce0b6741e2150273451</td>\n",
       "      <td>2018-07-26 03:24:27</td>\n",
       "      <td>af07308b275d755c9edb36a90c618231</td>\n",
       "    </tr>\n",
       "  </tbody>\n",
       "</table>\n",
       "</div>"
      ],
      "text/plain": [
       "                           order_id                 date                       customer_id\n",
       "0  e481f51cbdc54678b7cc49136f2d6af7  2017-10-02 11:07:15  7c396fd4830fd04220f754e42b4e5bff\n",
       "1  53cdb2fc8bc7dce0b6741e2150273451  2018-07-26 03:24:27  af07308b275d755c9edb36a90c618231"
      ]
     },
     "execution_count": 6,
     "metadata": {},
     "output_type": "execute_result"
    }
   ],
   "source": [
    "orders = pd.read_csv(\"orders.csv\")\n",
    "print(\"Shape :\", orders.shape)\n",
    "\n",
    "# Ajout de la variable 'customer_unique_id' au dataframe 'orders'\n",
    "orders = pd.merge(orders, customers, on='customer_id')\n",
    "\n",
    "# Supression des commandes non valides :\n",
    "orders = orders[~orders['order_status'].isin(['unavailable','canceled'])]\n",
    "\n",
    "# Nettoyage colonnes\n",
    "orders = orders.drop(['customer_id','order_status','order_purchase_timestamp','order_delivered_carrier_date',\n",
    "                      'order_delivered_customer_date','order_estimated_delivery_date'], 1)\n",
    "\n",
    "# suppression des orders avec NaN localisés sur la colonne 'order_approved_at' :\n",
    "orders = orders.dropna(how = 'any')\n",
    "print(\"Après suppression des commandes sans 'date'\", orders.shape)\n",
    "\n",
    "# Liste des commandes valides\n",
    "l_validated_orders = orders['order_id'].unique().tolist()\n",
    "\n",
    "# Renommage colonnes\n",
    "orders.columns = ['order_id', 'date', 'customer_id']\n",
    "\n",
    "orders.head(2)\n"
   ]
  },
  {
   "cell_type": "code",
   "execution_count": 7,
   "metadata": {},
   "outputs": [
    {
     "name": "stdout",
     "output_type": "stream",
     "text": [
      "Commande la plus récente  : 2018-09-03 17:40:06\n",
      "Commande la plus ancienne : 2016-09-15 12:16:38\n"
     ]
    }
   ],
   "source": [
    "# Formatage de la date\n",
    "\n",
    "import datetime\n",
    "from datetime import timedelta\n",
    "\n",
    "orders['date'] = pd.to_datetime(orders['date'])   # object >> datetime64\n",
    "\n",
    "debut_periode = orders['date'].min()\n",
    "fin_periode   = orders['date'].max()\n",
    "\n",
    "orders['date'] = orders['date'].dt.date   # enlève les heures, minutes, secondes\n",
    "\n",
    "# orders['date'] = pd.to_datetime(orders['date'])   # object >> datetime64\n",
    "\n",
    "print(\"Commande la plus récente  :\", fin_periode)\n",
    "print(\"Commande la plus ancienne :\", debut_periode)\n"
   ]
  },
  {
   "cell_type": "code",
   "execution_count": 8,
   "metadata": {},
   "outputs": [],
   "source": [
    "# Liste des clients ayant commandé plus d'une fois :\n",
    "l_customer_multip = orders[orders.duplicated(subset = ['customer_id'])]['customer_id'].unique()\n"
   ]
  },
  {
   "cell_type": "markdown",
   "metadata": {},
   "source": [
    "### Lignes de commande"
   ]
  },
  {
   "cell_type": "code",
   "execution_count": 11,
   "metadata": {},
   "outputs": [
    {
     "name": "stdout",
     "output_type": "stream",
     "text": [
      "(112086, 4)\n"
     ]
    },
    {
     "data": {
      "text/html": [
       "<div>\n",
       "<style scoped>\n",
       "    .dataframe tbody tr th:only-of-type {\n",
       "        vertical-align: middle;\n",
       "    }\n",
       "\n",
       "    .dataframe tbody tr th {\n",
       "        vertical-align: top;\n",
       "    }\n",
       "\n",
       "    .dataframe thead th {\n",
       "        text-align: right;\n",
       "    }\n",
       "</style>\n",
       "<table border=\"1\" class=\"dataframe\">\n",
       "  <thead>\n",
       "    <tr style=\"text-align: right;\">\n",
       "      <th></th>\n",
       "      <th>order_id</th>\n",
       "      <th>product_id</th>\n",
       "      <th>price</th>\n",
       "      <th>freight</th>\n",
       "    </tr>\n",
       "  </thead>\n",
       "  <tbody>\n",
       "    <tr>\n",
       "      <th>0</th>\n",
       "      <td>00010242fe8c5a6d1ba2dd792cb16214</td>\n",
       "      <td>4244733e06e7ecb4970a6e2683c13e61</td>\n",
       "      <td>58.9</td>\n",
       "      <td>13.29</td>\n",
       "    </tr>\n",
       "    <tr>\n",
       "      <th>1</th>\n",
       "      <td>00018f77f2f0320c557190d7a144bdd3</td>\n",
       "      <td>e5f2d52b802189ee658865ca93d83a8f</td>\n",
       "      <td>239.9</td>\n",
       "      <td>19.93</td>\n",
       "    </tr>\n",
       "    <tr>\n",
       "      <th>2</th>\n",
       "      <td>000229ec398224ef6ca0657da4fc703e</td>\n",
       "      <td>c777355d18b72b67abbeef9df44fd0fd</td>\n",
       "      <td>199.0</td>\n",
       "      <td>17.87</td>\n",
       "    </tr>\n",
       "  </tbody>\n",
       "</table>\n",
       "</div>"
      ],
      "text/plain": [
       "                           order_id                        product_id  price  freight\n",
       "0  00010242fe8c5a6d1ba2dd792cb16214  4244733e06e7ecb4970a6e2683c13e61   58.9    13.29\n",
       "1  00018f77f2f0320c557190d7a144bdd3  e5f2d52b802189ee658865ca93d83a8f  239.9    19.93\n",
       "2  000229ec398224ef6ca0657da4fc703e  c777355d18b72b67abbeef9df44fd0fd  199.0    17.87"
      ]
     },
     "execution_count": 11,
     "metadata": {},
     "output_type": "execute_result"
    }
   ],
   "source": [
    "items = pd.read_csv(\"order_items.csv\")\n",
    "\n",
    "# A RETENIR :   order_id , product_id , price , freight_value\n",
    "\n",
    "# Suprimmer les lignes de commandes des commandes non valides :\n",
    "items = items[items['order_id'].isin(l_validated_orders)]\n",
    "\n",
    "items = items.drop(['shipping_limit_date','seller_id','order_item_id'], 1)\n",
    "items.columns = ['order_id', 'product_id', 'price', 'freight']              # Renommage colonnes\n",
    "\n",
    "print(items.shape)\n",
    "items.head(3)\n"
   ]
  },
  {
   "cell_type": "markdown",
   "metadata": {},
   "source": [
    "### Produits"
   ]
  },
  {
   "cell_type": "code",
   "execution_count": 12,
   "metadata": {},
   "outputs": [
    {
     "data": {
      "text/html": [
       "<div>\n",
       "<style scoped>\n",
       "    .dataframe tbody tr th:only-of-type {\n",
       "        vertical-align: middle;\n",
       "    }\n",
       "\n",
       "    .dataframe tbody tr th {\n",
       "        vertical-align: top;\n",
       "    }\n",
       "\n",
       "    .dataframe thead th {\n",
       "        text-align: right;\n",
       "    }\n",
       "</style>\n",
       "<table border=\"1\" class=\"dataframe\">\n",
       "  <thead>\n",
       "    <tr style=\"text-align: right;\">\n",
       "      <th></th>\n",
       "      <th>product_id</th>\n",
       "      <th>weight</th>\n",
       "      <th>length</th>\n",
       "      <th>height</th>\n",
       "      <th>width</th>\n",
       "      <th>volume</th>\n",
       "    </tr>\n",
       "  </thead>\n",
       "  <tbody>\n",
       "    <tr>\n",
       "      <th>0</th>\n",
       "      <td>1e9e8ef04dbcff4541ed26657ea517e5</td>\n",
       "      <td>225.0</td>\n",
       "      <td>16.0</td>\n",
       "      <td>10.0</td>\n",
       "      <td>14.0</td>\n",
       "      <td>2240.0</td>\n",
       "    </tr>\n",
       "    <tr>\n",
       "      <th>1</th>\n",
       "      <td>3aa071139cb16b67ca9e5dea641aaa2f</td>\n",
       "      <td>1000.0</td>\n",
       "      <td>30.0</td>\n",
       "      <td>18.0</td>\n",
       "      <td>20.0</td>\n",
       "      <td>10800.0</td>\n",
       "    </tr>\n",
       "    <tr>\n",
       "      <th>2</th>\n",
       "      <td>96bd76ec8810374ed1b65e291975717f</td>\n",
       "      <td>154.0</td>\n",
       "      <td>18.0</td>\n",
       "      <td>9.0</td>\n",
       "      <td>15.0</td>\n",
       "      <td>2430.0</td>\n",
       "    </tr>\n",
       "  </tbody>\n",
       "</table>\n",
       "</div>"
      ],
      "text/plain": [
       "                         product_id  weight  length  height  width   volume\n",
       "0  1e9e8ef04dbcff4541ed26657ea517e5   225.0    16.0    10.0   14.0   2240.0\n",
       "1  3aa071139cb16b67ca9e5dea641aaa2f  1000.0    30.0    18.0   20.0  10800.0\n",
       "2  96bd76ec8810374ed1b65e291975717f   154.0    18.0     9.0   15.0   2430.0"
      ]
     },
     "execution_count": 12,
     "metadata": {},
     "output_type": "execute_result"
    }
   ],
   "source": [
    "products = pd.read_csv(\"products.csv\")\n",
    "\n",
    "\n",
    "# A RETENIR :   product_id , product_weight_g , product_length_cm , product_height_cm , product_width_cm\n",
    "\n",
    "products = products.drop(['product_category_name','product_name_lenght','product_description_lenght','product_photos_qty'], 1)\n",
    "\n",
    "products.columns = ['product_id','weight','length','height','width']\n",
    "\n",
    "products['volume']= products['length'] * products['height'] * products['width']\n",
    "\n",
    "products = products.dropna(how = 'any')                     \n",
    "# 2 produits n'ont pas de 'product_weight_g', 'product_length_cm' , 'product_height_cm' , 'product_width_cm'\n",
    "\n",
    "products.head(3)"
   ]
  },
  {
   "cell_type": "markdown",
   "metadata": {},
   "source": [
    "### Paiements"
   ]
  },
  {
   "cell_type": "code",
   "execution_count": 13,
   "metadata": {},
   "outputs": [
    {
     "name": "stdout",
     "output_type": "stream",
     "text": [
      "(103886, 5)\n",
      "                           order_id  payment_sequential payment_type  payment_installments  payment_value\n",
      "0  b81ef226f3fe1789b1e8b2acac839d17                   1  credit_card                     8          99.33\n",
      "1  a9810da82917af2d9aefd1278f1dcfa0                   1  credit_card                     1          24.39\n"
     ]
    }
   ],
   "source": [
    "# Type paiement :  'credit_card', 'boleto', 'voucher', 'debit_card', 'not_defined'\n",
    "\n",
    "# Vérifier qu'une commande => un type de paiement\n",
    "\n",
    "payments = pd.read_csv(\"order_payments.csv\")\n",
    "print(payments.shape)\n",
    "print(payments.head(2))\n"
   ]
  },
  {
   "cell_type": "code",
   "execution_count": 14,
   "metadata": {},
   "outputs": [],
   "source": [
    "# Supression des paiements indéfinis :\n",
    "payments = payments[~payments['payment_type'].isin(['not_defined'])]\n",
    "\n",
    "# Supression des paiements liés aux commandes invalides :\n",
    "payments = payments[payments['order_id'].isin(l_validated_orders)]"
   ]
  },
  {
   "cell_type": "code",
   "execution_count": 15,
   "metadata": {},
   "outputs": [
    {
     "name": "stdout",
     "output_type": "stream",
     "text": [
      "Shape : (102554, 5) \n",
      "\n"
     ]
    }
   ],
   "source": [
    "print(\"Shape :\", payments.shape, \"\\n\")\n",
    "\n",
    "# Liste des commandes multi-paiements :\n",
    "l_order_multip = payments[payments.duplicated(subset = ['order_id'])]['order_id'].unique()\n"
   ]
  },
  {
   "cell_type": "code",
   "execution_count": 16,
   "metadata": {},
   "outputs": [
    {
     "name": "stdout",
     "output_type": "stream",
     "text": [
      "[ 1  2  6  3  7  4  5 11 12 10 15  8  9 22 14 13 21 26 19 29]\n"
     ]
    },
    {
     "data": {
      "text/html": [
       "<div>\n",
       "<style scoped>\n",
       "    .dataframe tbody tr th:only-of-type {\n",
       "        vertical-align: middle;\n",
       "    }\n",
       "\n",
       "    .dataframe tbody tr th {\n",
       "        vertical-align: top;\n",
       "    }\n",
       "\n",
       "    .dataframe thead th {\n",
       "        text-align: right;\n",
       "    }\n",
       "</style>\n",
       "<table border=\"1\" class=\"dataframe\">\n",
       "  <thead>\n",
       "    <tr style=\"text-align: right;\">\n",
       "      <th></th>\n",
       "      <th>order_id</th>\n",
       "      <th>payment_type</th>\n",
       "      <th>nb_payments</th>\n",
       "    </tr>\n",
       "  </thead>\n",
       "  <tbody>\n",
       "    <tr>\n",
       "      <th>0</th>\n",
       "      <td>00010242fe8c5a6d1ba2dd792cb16214</td>\n",
       "      <td>credit_card</td>\n",
       "      <td>1</td>\n",
       "    </tr>\n",
       "    <tr>\n",
       "      <th>1</th>\n",
       "      <td>00018f77f2f0320c557190d7a144bdd3</td>\n",
       "      <td>credit_card</td>\n",
       "      <td>1</td>\n",
       "    </tr>\n",
       "    <tr>\n",
       "      <th>2</th>\n",
       "      <td>000229ec398224ef6ca0657da4fc703e</td>\n",
       "      <td>credit_card</td>\n",
       "      <td>1</td>\n",
       "    </tr>\n",
       "  </tbody>\n",
       "</table>\n",
       "</div>"
      ],
      "text/plain": [
       "                           order_id payment_type  nb_payments\n",
       "0  00010242fe8c5a6d1ba2dd792cb16214  credit_card            1\n",
       "1  00018f77f2f0320c557190d7a144bdd3  credit_card            1\n",
       "2  000229ec398224ef6ca0657da4fc703e  credit_card            1"
      ]
     },
     "execution_count": 16,
     "metadata": {},
     "output_type": "execute_result"
    }
   ],
   "source": [
    "# Pour récupérer le type de paiement ('payment_type') :\n",
    "Paiement_first = payments.sort_values(['order_id', 'payment_sequential'], ascending = True)   # 1,2,3,4,5...\n",
    "Paiement_first.drop_duplicates(subset =\"order_id\", keep = 'first', inplace=True)\n",
    "Paiement_first = Paiement_first.drop(['payment_sequential','payment_installments','payment_value'], 1)\n",
    "\n",
    "# Pour récupérer le nombre de paiements ('payment_sequential') :\n",
    "Paiement_last = payments.sort_values(['order_id', 'payment_sequential'], ascending = True)\n",
    "Paiement_last.drop_duplicates(subset =\"order_id\", keep = 'last', inplace=True)\n",
    "Paiement_last = Paiement_last.drop(['payment_type','payment_installments','payment_value'], 1)\n",
    "Paiement_last.columns = ['order_id', 'nb_payments']\n",
    "\n",
    "payments = pd.merge(Paiement_first, Paiement_last, on='order_id')\n",
    "print(payments['nb_payments'].unique())\n",
    "payments.head(3)\n"
   ]
  },
  {
   "cell_type": "markdown",
   "metadata": {},
   "source": [
    "### Encodage de la variable 'payments.payment_type'"
   ]
  },
  {
   "cell_type": "code",
   "execution_count": 17,
   "metadata": {},
   "outputs": [
    {
     "name": "stdout",
     "output_type": "stream",
     "text": [
      "(98187, 6)\n"
     ]
    },
    {
     "data": {
      "text/html": [
       "<div>\n",
       "<style scoped>\n",
       "    .dataframe tbody tr th:only-of-type {\n",
       "        vertical-align: middle;\n",
       "    }\n",
       "\n",
       "    .dataframe tbody tr th {\n",
       "        vertical-align: top;\n",
       "    }\n",
       "\n",
       "    .dataframe thead th {\n",
       "        text-align: right;\n",
       "    }\n",
       "</style>\n",
       "<table border=\"1\" class=\"dataframe\">\n",
       "  <thead>\n",
       "    <tr style=\"text-align: right;\">\n",
       "      <th></th>\n",
       "      <th>order_id</th>\n",
       "      <th>nb_payments</th>\n",
       "      <th>payment_type_boleto</th>\n",
       "      <th>payment_type_credit_card</th>\n",
       "      <th>payment_type_debit_card</th>\n",
       "      <th>payment_type_voucher</th>\n",
       "    </tr>\n",
       "  </thead>\n",
       "  <tbody>\n",
       "    <tr>\n",
       "      <th>0</th>\n",
       "      <td>00010242fe8c5a6d1ba2dd792cb16214</td>\n",
       "      <td>1</td>\n",
       "      <td>0.0</td>\n",
       "      <td>1.0</td>\n",
       "      <td>0.0</td>\n",
       "      <td>0.0</td>\n",
       "    </tr>\n",
       "    <tr>\n",
       "      <th>1</th>\n",
       "      <td>00018f77f2f0320c557190d7a144bdd3</td>\n",
       "      <td>1</td>\n",
       "      <td>0.0</td>\n",
       "      <td>1.0</td>\n",
       "      <td>0.0</td>\n",
       "      <td>0.0</td>\n",
       "    </tr>\n",
       "  </tbody>\n",
       "</table>\n",
       "</div>"
      ],
      "text/plain": [
       "                           order_id  nb_payments  payment_type_boleto  payment_type_credit_card  payment_type_debit_card  payment_type_voucher\n",
       "0  00010242fe8c5a6d1ba2dd792cb16214            1                  0.0                       1.0                      0.0                   0.0\n",
       "1  00018f77f2f0320c557190d7a144bdd3            1                  0.0                       1.0                      0.0                   0.0"
      ]
     },
     "execution_count": 17,
     "metadata": {},
     "output_type": "execute_result"
    }
   ],
   "source": [
    "from sklearn.preprocessing import OneHotEncoder\n",
    "\n",
    "# 1. Encodage\n",
    "X = payments[['payment_type']]   # Choix des variables à encoder\n",
    "                                          \n",
    "encoder = OneHotEncoder()\n",
    "X_encoded = encoder.fit_transform(X).toarray()\n",
    "\n",
    "# 2. Reconstitution du dataframe 'products'\n",
    "col = encoder.get_feature_names(['payment_type'])   # Récupérer les colonnes crées par OneHotEncoder\n",
    "\n",
    "# Convertir le 'numpy.ndarray' en un dataframe :\n",
    "df_X = pd.DataFrame(data=X_encoded, index=payments.index, columns=col)\n",
    "\n",
    "# Supprimer les colonnes traitées par OneHotEncoder ...\n",
    "payments_enc = payments.drop(['payment_type'], 1) \n",
    "\n",
    "# ... et les remplacer par leurs équivalents OneHotEncoder :\n",
    "payments = payments_enc.join(df_X)\n",
    "print(payments.shape)\n",
    "payments.head(2)\n"
   ]
  },
  {
   "cell_type": "markdown",
   "metadata": {},
   "source": [
    "## Formation du dataset"
   ]
  },
  {
   "cell_type": "code",
   "execution_count": 23,
   "metadata": {},
   "outputs": [
    {
     "data": {
      "text/html": [
       "<div>\n",
       "<style scoped>\n",
       "    .dataframe tbody tr th:only-of-type {\n",
       "        vertical-align: middle;\n",
       "    }\n",
       "\n",
       "    .dataframe tbody tr th {\n",
       "        vertical-align: top;\n",
       "    }\n",
       "\n",
       "    .dataframe thead th {\n",
       "        text-align: right;\n",
       "    }\n",
       "</style>\n",
       "<table border=\"1\" class=\"dataframe\">\n",
       "  <thead>\n",
       "    <tr style=\"text-align: right;\">\n",
       "      <th></th>\n",
       "      <th>order_id</th>\n",
       "      <th>price</th>\n",
       "      <th>freight</th>\n",
       "      <th>weight</th>\n",
       "      <th>length</th>\n",
       "      <th>height</th>\n",
       "      <th>width</th>\n",
       "      <th>volume</th>\n",
       "    </tr>\n",
       "  </thead>\n",
       "  <tbody>\n",
       "    <tr>\n",
       "      <th>0</th>\n",
       "      <td>00010242fe8c5a6d1ba2dd792cb16214</td>\n",
       "      <td>58.9</td>\n",
       "      <td>13.29</td>\n",
       "      <td>650.0</td>\n",
       "      <td>28.0</td>\n",
       "      <td>9.0</td>\n",
       "      <td>14.0</td>\n",
       "      <td>3528.0</td>\n",
       "    </tr>\n",
       "    <tr>\n",
       "      <th>1</th>\n",
       "      <td>00018f77f2f0320c557190d7a144bdd3</td>\n",
       "      <td>239.9</td>\n",
       "      <td>19.93</td>\n",
       "      <td>30000.0</td>\n",
       "      <td>50.0</td>\n",
       "      <td>30.0</td>\n",
       "      <td>40.0</td>\n",
       "      <td>60000.0</td>\n",
       "    </tr>\n",
       "  </tbody>\n",
       "</table>\n",
       "</div>"
      ],
      "text/plain": [
       "                           order_id  price  freight   weight  length  height  width   volume\n",
       "0  00010242fe8c5a6d1ba2dd792cb16214   58.9    13.29    650.0    28.0     9.0   14.0   3528.0\n",
       "1  00018f77f2f0320c557190d7a144bdd3  239.9    19.93  30000.0    50.0    30.0   40.0  60000.0"
      ]
     },
     "execution_count": 23,
     "metadata": {},
     "output_type": "execute_result"
    }
   ],
   "source": [
    "#  Table maitresse 'items' : ['order_id', 'product_id', 'price', 'freight_value']\n",
    "\n",
    "#  Aggrégation des caractéristiques des Produits :  ['weight', 'length', 'height', 'width']\n",
    "data_rfm = pd.merge(items, products, on='product_id')\n",
    "data_rfm = data_rfm.drop(['product_id'], 1)   # 'product_id' n'est plus utile\n",
    "\n",
    "#  Regroupement des lignes de commande par commande :\n",
    "data_rfm = data_rfm.groupby(['order_id']).sum().reset_index()\n",
    "\n",
    "data_rfm.head(2)"
   ]
  },
  {
   "cell_type": "markdown",
   "metadata": {},
   "source": [
    "### Constitution des dataframes par période"
   ]
  },
  {
   "cell_type": "code",
   "execution_count": 24,
   "metadata": {},
   "outputs": [],
   "source": [
    "# Sauvegarde avant constitution du dataset principal :\n",
    "temp_orders = orders.copy()\n",
    "temp_df     = data_rfm.copy()\n"
   ]
  },
  {
   "cell_type": "markdown",
   "metadata": {},
   "source": [
    "### Filtre sur la période"
   ]
  },
  {
   "cell_type": "code",
   "execution_count": 25,
   "metadata": {},
   "outputs": [],
   "source": [
    "# Calcul de la Récence aprés sélection de la dernière date de commande pour chaque client.\n",
    "#\n",
    "# La fonction calcul_recence() est appelée pour chacune des 10 périodes (cellule suivante).\n",
    "\n",
    "import datetime\n",
    "\n",
    "def calcul_recence(orders):\n",
    "    customer_date = orders.sort_values(['customer_id','date'], ascending = False)\n",
    "    customer_date.drop_duplicates(subset =\"customer_id\", keep = 'first', inplace=True)   # On ne garde que la date la + récente\n",
    "    customer_date = customer_date.drop(['order_id'], 1)\n",
    "\n",
    "    date_ref = datetime.date(2018, 9, 5)   # date de référence\n",
    "\n",
    "    customer_date['date'] = date_ref - customer_date['date']    # calcul récence (différence en jours)\n",
    "    customer_date.columns = ['recence', 'customer_id']          # Renommage colonnes\n",
    "\n",
    "    customer_date['recence'] = customer_date['recence'].dt.days.astype('int16')\n",
    "    return(customer_date)\n"
   ]
  },
  {
   "cell_type": "code",
   "execution_count": 26,
   "metadata": {},
   "outputs": [
    {
     "name": "stdout",
     "output_type": "stream",
     "text": [
      "Commandes du   2016-09-15 12:16:38   au   2018-09-03 17:40:06 \n",
      "\n",
      "Date limite supérieure des périodes de 1 à 10:\n",
      "2017-12-01\n",
      "2018-01-01\n",
      "2018-02-01\n",
      "2018-03-01\n",
      "2018-04-01\n",
      "2018-05-01\n",
      "2018-06-01\n",
      "2018-07-01\n",
      "2018-08-01\n",
      "2018-09-04\n"
     ]
    }
   ],
   "source": [
    "# Constitution de la liste des dates limites des 10 périodes :\n",
    "\n",
    "print(\"Commandes du  \", debut_periode,\"  au  \", fin_periode,\"\\n\")\n",
    " \n",
    "list_dates_limit = []\n",
    "date01 = datetime.date(2017, 12, 1); list_dates_limit.append(date01)\n",
    "date02 = datetime.date(2018, 1,  1); list_dates_limit.append(date02)\n",
    "date03 = datetime.date(2018, 2,  1); list_dates_limit.append(date03)\n",
    "date04 = datetime.date(2018, 3,  1); list_dates_limit.append(date04)\n",
    "date05 = datetime.date(2018, 4,  1); list_dates_limit.append(date05)\n",
    "date06 = datetime.date(2018, 5,  1); list_dates_limit.append(date06)\n",
    "date07 = datetime.date(2018, 6,  1); list_dates_limit.append(date07)\n",
    "date08 = datetime.date(2018, 7,  1); list_dates_limit.append(date08)\n",
    "date09 = datetime.date(2018, 8,  1); list_dates_limit.append(date09)\n",
    "date10 = datetime.date(2018, 9,  4); list_dates_limit.append(date10)\n",
    "\n",
    "print(\"Date limite supérieure des périodes de 1 à 10:\")\n",
    "for datex in list_dates_limit:\n",
    "    print(datex)\n"
   ]
  },
  {
   "cell_type": "code",
   "execution_count": 27,
   "metadata": {},
   "outputs": [
    {
     "name": "stdout",
     "output_type": "stream",
     "text": [
      "38818 commandes jusqu'au 2017-12-01\n",
      "pour 1677 clients\n",
      "\n",
      "44600 commandes jusqu'au 2018-01-01\n",
      "pour 1677 clients\n",
      "\n",
      "51708 commandes jusqu'au 2018-02-01\n",
      "pour 1677 clients\n",
      "\n",
      "58312 commandes jusqu'au 2018-03-01\n",
      "pour 1677 clients\n",
      "\n",
      "65561 commandes jusqu'au 2018-04-01\n",
      "pour 1677 clients\n",
      "\n",
      "72319 commandes jusqu'au 2018-05-01\n",
      "pour 1677 clients\n",
      "\n",
      "79345 commandes jusqu'au 2018-06-01\n",
      "pour 1677 clients\n",
      "\n",
      "85487 commandes jusqu'au 2018-07-01\n",
      "pour 1677 clients\n",
      "\n",
      "91612 commandes jusqu'au 2018-08-01\n",
      "pour 1677 clients\n",
      "\n",
      "98188 commandes jusqu'au 2018-09-04\n",
      "pour 1677 clients\n",
      "\n"
     ]
    }
   ],
   "source": [
    "# Constitution du dataset principal en fonction des différentes périodes :\n",
    "\n",
    "import copy\n",
    "\n",
    "\n",
    "l_customer_ref = []\n",
    "dict_clients_period = {}\n",
    "first = True\n",
    "\n",
    "for datex in list_dates_limit:\n",
    "    \n",
    "    # Prise en compte des commandes passées avant la date limite 'datex'\n",
    "    orders2 = temp_orders[temp_orders.date < datex]\n",
    "    print(len(orders2),\"commandes jusqu'au\", datex)\n",
    "\n",
    "    #  1. Aggrégation des caractéristiques des Paiements : \n",
    "    data_rfm = pd.merge(temp_df, payments, on='order_id')\n",
    "    \n",
    "    # 2. Préparation du Calcul de la Fréquence de commande :  Une commande a une fréquence de 1\n",
    "    data_rfm['frequence'] = 1\n",
    "    data_rfm = pd.merge(data_rfm, orders2[['order_id', 'customer_id']])   # pour récupérer 'customer_id'\n",
    "      \n",
    "    # 3. Dataframe sans 'order_id','length','height','width' :\n",
    "    data_rfm = data_rfm[['customer_id','price','freight','weight','volume','nb_payments', 'frequence',\n",
    "                         'payment_type_boleto', 'payment_type_credit_card','payment_type_debit_card','payment_type_voucher']]    \n",
    "\n",
    "    #  4. Regroupement des commandes par client\n",
    "    data_rfm = data_rfm.groupby(['customer_id']).aggregate(\n",
    "    {'customer_id': 'min',\n",
    "     'price': ['mean', 'min', 'max'],\n",
    "     'freight': ['mean'], 'weight': ['mean'],\n",
    "     'volume': ['mean'],\n",
    "     'nb_payments': ['mean'],\n",
    "     'frequence': ['sum'],\n",
    "     'payment_type_boleto': ['mean'], 'payment_type_credit_card': ['mean'],\n",
    "     'payment_type_debit_card': ['mean'],'payment_type_voucher': ['mean'] })\n",
    "\n",
    "    data_rfm.columns = data_rfm.columns.droplevel(level=[0])\n",
    "    data_rfm.columns = ['customer_id', 'price', 'price_min', 'price_max', 'freight', 'weight', \n",
    "                    'volume', 'nb_payments', 'frequence',\n",
    "                    'payment_boleto', 'payment_credit_card', 'payment_debit_card','payment_voucher']\n",
    "    data_rfm.reset_index(drop = True, inplace = True)\n",
    "\n",
    "\n",
    "    #  5. Aggrégation de la 'recence' après son calcul :\n",
    "    customer_date = calcul_recence(orders2)\n",
    "    clients = pd.merge(data_rfm, customer_date, on='customer_id')\n",
    "    \n",
    "    # 6. Contrôle des clients :\n",
    "    if first == True:\n",
    "        first = False\n",
    "        clients = clients[clients['customer_id'].isin(l_customer_multip)]  # restriction aux clients multi-commandes\n",
    "        l_customer_ref = clients['customer_id'].unique()                   # Liste des clients référents\n",
    "    else:\n",
    "        clients = clients[clients['customer_id'].isin(l_customer_ref)]     # on doit avoir les même clients \n",
    "    print(\"pour\", len(clients), \"clients\\n\")\n",
    "    \n",
    "    # 7. Sauvegarde du dataframe d'UNE période :\n",
    "    dict_clients_period[datex] = copy.deepcopy(clients)\n",
    "\n",
    "\n",
    "# Nombre total de clients multi-commandes = len(l_customer_multip) = 2886 pour 99441 clients\n"
   ]
  },
  {
   "cell_type": "markdown",
   "metadata": {},
   "source": [
    "## Transformation des variables"
   ]
  },
  {
   "cell_type": "code",
   "execution_count": 28,
   "metadata": {},
   "outputs": [],
   "source": [
    "# 1. RACINE\n",
    "col_racine =  ['price', 'price_min', 'price_max', 'freight', 'weight', 'volume', 'nb_payments', 'frequence', 'recence',\n",
    "              'payment_boleto', 'payment_credit_card', 'payment_debit_card', 'payment_voucher']\n",
    "for datex in list_dates_limit:\n",
    "    #print(\"Date limite :\", datex)\n",
    "    periode = dict_clients_period[datex]          # Extraction d'un dataframe d'une période (= un mois)\n",
    "    for col in col_racine:      \n",
    "        periode[col] = np.sqrt(periode[col])\n",
    "\n",
    "\n",
    "# 2. STANDARDISATION\n",
    "col_std =  ['price', 'price_min', 'price_max', 'freight', 'weight', 'volume', 'nb_payments', 'frequence', 'recence',\n",
    "              'payment_boleto', 'payment_credit_card', 'payment_debit_card', 'payment_voucher']\n",
    "for datex in list_dates_limit:\n",
    "    #print(\"Date limite :\", datex)\n",
    "    periode = dict_clients_period[datex]\n",
    "    for col in col_std:      \n",
    "        periode[col] = (periode[col] - periode[col].mean()) / periode[col].std(ddof = 0)\n"
   ]
  },
  {
   "cell_type": "markdown",
   "metadata": {},
   "source": [
    "### Choix des Variables"
   ]
  },
  {
   "cell_type": "code",
   "execution_count": 29,
   "metadata": {},
   "outputs": [],
   "source": [
    "# --- 1. VARIABLES :\n",
    "\n",
    "list_var =   ['price', 'price_min', 'price_max', 'freight', 'weight', 'volume', 'nb_payments', 'frequence', 'recence',\n",
    "              'payment_boleto', 'payment_credit_card', 'payment_debit_card', 'payment_voucher']\n"
   ]
  },
  {
   "cell_type": "markdown",
   "metadata": {},
   "source": [
    "# Choix de la Méthode optimale"
   ]
  },
  {
   "cell_type": "markdown",
   "metadata": {},
   "source": [
    "## Classification hiérarchique"
   ]
  },
  {
   "cell_type": "code",
   "execution_count": 50,
   "metadata": {},
   "outputs": [
    {
     "name": "stdout",
     "output_type": "stream",
     "text": [
      "Rand Score ajusté CAH :\n",
      " [0.7057713285158207, 0.530955025122087, 0.6859823381790201, 0.5344316800164228, 0.6112353971663628, 0.6354227670292258, 0.6918619630852765, 0.698600409339131, 0.570265182992805]\n"
     ]
    }
   ],
   "source": [
    "from scipy.cluster.hierarchy import linkage, fcluster\n",
    "from scipy.cluster.hierarchy import dendrogram, linkage\n",
    "from sklearn import metrics\n",
    "\n",
    "\n",
    "for datex in list_dates_limit:\n",
    "    UNE_period = dict_clients_period[datex]          # extraction du dataframe d'UNE période\n",
    "    X = UNE_period[list_var].values\n",
    "\n",
    "    # Clustering hiérarchique\n",
    "    Z = linkage(X, 'ward')\n",
    "\n",
    "    # Decoupage du dendrogramme en 'x' clusters :\n",
    "    x = 6\n",
    "    clusters = fcluster(Z, x, criterion='maxclust')   # (Option : criterion='distance')\n",
    "    \n",
    "    # Sauvegarde des clusters d'UNE période :\n",
    "    UNE_period['cluster'] = clusters\n",
    "    dict_clients_period[datex] = UNE_period   # chaque client de la période a maintenant son cluster\n",
    "\n",
    "    \n",
    "\n",
    "first = True\n",
    "rand_score = []\n",
    "dict_score = {}\n",
    "\n",
    "for datex in list_dates_limit:\n",
    "    \n",
    "    if first == True:\n",
    "        first = False\n",
    "    else:\n",
    "        #print(\"Jusqu\\'au \", date_prev,\" et \", datex)\n",
    "        period_courant = dict_clients_period[datex]           # dataframe de la période courante\n",
    "        period_prev    = dict_clients_period[date_prev]       # dataframe dde la période precedante\n",
    "            \n",
    "        rand_score.append(metrics.adjusted_rand_score(period_prev['cluster'], period_courant['cluster']))\n",
    "        \n",
    "        dict_score[datex] = metrics.adjusted_rand_score(period_prev['cluster'], period_courant['cluster'])\n",
    "        \n",
    "    date_prev = datex\n",
    "\n",
    "print(\"Rand Score ajusté CAH :\\n\", rand_score)\n"
   ]
  },
  {
   "cell_type": "code",
   "execution_count": 51,
   "metadata": {},
   "outputs": [
    {
     "data": {
      "image/png": "[encoded data removed]",
      "text/plain": [
       "<Figure size 936x288 with 1 Axes>"
      ]
     },
     "metadata": {
      "needs_background": "light"
     },
     "output_type": "display_data"
    }
   ],
   "source": [
    "# Affichage de l'évolution du rand score ajusté\n",
    "\n",
    "import matplotlib.dates as mdates\n",
    "\n",
    "\n",
    "df_score = pd.DataFrame(list(dict_score.items()),  columns=['date', 'score'])\n",
    "\n",
    "df_score['datetime'] = pd.to_datetime(df_score['date'])\n",
    "value_month = df_score[['datetime', 'score']].copy()\n",
    "value_month.set_index('datetime', inplace=True)\n",
    "\n",
    "fig, ax = plt.subplots(figsize=(13, 4))\n",
    "ax.plot(value_month.index, value_month.values)\n",
    "fig.autofmt_xdate()\n",
    "ax.fmt_xdata = mdates.DateFormatter('%Y-%m')\n",
    "ax.set_title('Rand score ajusté CAH')\n",
    "fig.savefig(\"rand_score_cah\")\n",
    "plt.show()\n"
   ]
  },
  {
   "cell_type": "markdown",
   "metadata": {},
   "source": [
    "## Clustering K-means"
   ]
  },
  {
   "cell_type": "code",
   "execution_count": 58,
   "metadata": {},
   "outputs": [
    {
     "name": "stdout",
     "output_type": "stream",
     "text": [
      "Rand Score ajusté Kmeans :\n",
      " [0.38494563333202203, 0.38715522285374643, 0.8808270720970123, 0.8896076571233484, 0.9318398485646812, 0.9171811632121613, 0.8726648998308915, 0.9175117626144416, 0.7925649541771771]\n"
     ]
    }
   ],
   "source": [
    "from sklearn.cluster import KMeans\n",
    "from sklearn import metrics\n",
    "\n",
    "\n",
    "for datex in list_dates_limit:\n",
    "    UNE_period = dict_clients_period[datex]          # extraction du dataframe d'UNE période\n",
    "    X = UNE_period[list_var].values\n",
    "\n",
    "    n_clust = 6\n",
    "    km = KMeans(n_clusters=n_clust)   # Clustering K-means\n",
    "    km.fit(X)\n",
    "    clusters = km.labels_\n",
    "\n",
    "    # Sauvegarde des clusters d'UNE période :\n",
    "    UNE_period['cluster'] = clusters\n",
    "    dict_clients_period[datex] = UNE_period   # chaque client de la période a maintenant son cluster\n",
    "\n",
    "    \n",
    "\n",
    "first = True\n",
    "rand_score = []\n",
    "dict_score = {}\n",
    "\n",
    "for datex in list_dates_limit:\n",
    "    \n",
    "    if first == True:\n",
    "        first = False\n",
    "    else:\n",
    "        #print(\"Jusqu\\'au \", date_prev,\" et \", datex)\n",
    "        period_courant = dict_clients_period[datex]           # dataframe de la période courante\n",
    "        period_prev    = dict_clients_period[date_prev]       # dataframe dde la période precedante\n",
    "            \n",
    "        rand_score.append(metrics.adjusted_rand_score(period_prev['cluster'], period_courant['cluster']))\n",
    "        \n",
    "        dict_score[datex] = metrics.adjusted_rand_score(period_prev['cluster'], period_courant['cluster'])\n",
    "        \n",
    "    date_prev = datex\n",
    "\n",
    "print(\"Rand Score ajusté Kmeans :\\n\", rand_score)\n"
   ]
  },
  {
   "cell_type": "code",
   "execution_count": 59,
   "metadata": {},
   "outputs": [
    {
     "data": {
      "image/png": "[encoded data removed]",
      "text/plain": [
       "<Figure size 432x288 with 1 Axes>"
      ]
     },
     "metadata": {
      "needs_background": "light"
     },
     "output_type": "display_data"
    }
   ],
   "source": [
    "# Affichage de l'évolution du rand score ajusté\n",
    "\n",
    "df_score = pd.DataFrame(list(dict_score.items()),  columns=['date', 'score'])\n",
    "\n",
    "df_score['datetime'] = pd.to_datetime(df_score['date'])\n",
    "value_month = df_score[['datetime', 'score']].copy()\n",
    "value_month.set_index('datetime', inplace=True)\n",
    "\n",
    "fig, ax = plt.subplots(figsize=(6, 4))\n",
    "ax.plot(value_month.index, value_month.values)\n",
    "fig.autofmt_xdate()\n",
    "ax.fmt_xdata = mdates.DateFormatter('%Y-%m')\n",
    "ax.set_title('Rand score ajusté Kmeans')\n",
    "fig.savefig(\"rand_score_kmeans\")\n",
    "plt.show()\n"
   ]
  },
  {
   "cell_type": "markdown",
   "metadata": {},
   "source": [
    "### Clustering DBSCAN  "
   ]
  },
  {
   "cell_type": "code",
   "execution_count": 72,
   "metadata": {},
   "outputs": [
    {
     "name": "stdout",
     "output_type": "stream",
     "text": [
      "Rand Score ajusté DBSCAN :\n",
      " [0.9570920131824, 0.9709413661202604, 0.9587937250068502, 0.993403991721035, 0.9730711571797145, 0.980799165437442, 0.9872883478371389, 0.9577686954198416, 0.9768882039100671]\n"
     ]
    }
   ],
   "source": [
    "from sklearn.cluster import DBSCAN\n",
    "from sklearn import metrics\n",
    "\n",
    "\n",
    "for datex in list_dates_limit:\n",
    "    UNE_period = dict_clients_period[datex]          # extraction du dataframe d'UNE période\n",
    "    X = UNE_period[list_var].values\n",
    "    \n",
    "    db = DBSCAN(eps=3.8, min_samples=8)   # Clustering DBSCAN\n",
    "    db.fit(X)\n",
    "    clusters = db.labels_\n",
    "\n",
    "    # Sauvegarde des clusters d'UNE période :\n",
    "    UNE_period['cluster'] = clusters\n",
    "    dict_clients_period[datex] = UNE_period   # chaque client de la période a maintenant son cluster\n",
    "    \n",
    "\n",
    "first = True\n",
    "rand_score = []\n",
    "dict_score = {}\n",
    "\n",
    "for datex in list_dates_limit:\n",
    "    \n",
    "    if first == True:\n",
    "        first = False\n",
    "    else:\n",
    "        #print(\"Jusqu\\'au \", date_prev,\" et \", datex)\n",
    "        period_courant = dict_clients_period[datex]           # dataframe de la période courante\n",
    "        period_prev    = dict_clients_period[date_prev]       # dataframe dde la période precedante\n",
    "            \n",
    "        rand_score.append(metrics.adjusted_rand_score(period_prev['cluster'], period_courant['cluster']))\n",
    "        \n",
    "        dict_score[datex] = metrics.adjusted_rand_score(period_prev['cluster'], period_courant['cluster'])\n",
    "        \n",
    "    date_prev = datex\n",
    "\n",
    "print(\"Rand Score ajusté DBSCAN :\\n\", rand_score)\n",
    "    "
   ]
  },
  {
   "cell_type": "code",
   "execution_count": 73,
   "metadata": {},
   "outputs": [
    {
     "data": {
      "image/png": "[encoded data removed]",
      "text/plain": [
       "<Figure size 936x288 with 1 Axes>"
      ]
     },
     "metadata": {
      "needs_background": "light"
     },
     "output_type": "display_data"
    }
   ],
   "source": [
    "# Affichage de l'évolution du rand score ajusté\n",
    "\n",
    "df_score = pd.DataFrame(list(dict_score.items()),  columns=['date', 'score'])\n",
    "\n",
    "df_score['datetime'] = pd.to_datetime(df_score['date'])\n",
    "value_month = df_score[['datetime', 'score']].copy()\n",
    "value_month.set_index('datetime', inplace=True)\n",
    "\n",
    "fig, ax = plt.subplots(figsize=(13, 4))\n",
    "ax.plot(value_month.index, value_month.values)\n",
    "fig.autofmt_xdate()\n",
    "ax.fmt_xdata = mdates.DateFormatter('%Y-%m')\n",
    "ax.set_title('Rand score ajusté DBSCAN')\n",
    "fig.savefig(\"rand_score_dbscan\")\n",
    "plt.show()\n"
   ]
  },
  {
   "cell_type": "markdown",
   "metadata": {},
   "source": [
    "# Stabilité des segments"
   ]
  },
  {
   "cell_type": "code",
   "execution_count": 66,
   "metadata": {},
   "outputs": [
    {
     "name": "stdout",
     "output_type": "stream",
     "text": [
      "Rand Score ajusté DBSCAN :\n",
      " [0.9570920131824, 0.9278154494364957, 0.9025162394773087, 0.8962439220175273, 0.8839638190098733, 0.8912272012850394, 0.879130835052269, 0.8389244500498483, 0.8281605120039277]\n"
     ]
    }
   ],
   "source": [
    "from sklearn.cluster import DBSCAN\n",
    "from sklearn import metrics\n",
    "\n",
    "\n",
    "for datex in list_dates_limit:\n",
    "    UNE_period = dict_clients_period[datex]          # extraction du dataframe d'UNE période\n",
    "    X = UNE_period[list_var].values\n",
    "    \n",
    "    db = DBSCAN(eps=3.8, min_samples=8)   # Clustering DBSCAN\n",
    "    db.fit(X)\n",
    "    clusters = db.labels_\n",
    "\n",
    "    # Sauvegarde des clusters d'UNE période :\n",
    "    UNE_period['cluster'] = clusters\n",
    "    dict_clients_period[datex] = UNE_period   # chaque client de la période a maintenant son cluster\n",
    "    \n",
    "\n",
    "first = True\n",
    "rand_score = []\n",
    "dict_score = {}\n",
    "\n",
    "for datex in list_dates_limit:\n",
    "    \n",
    "    if first == True:\n",
    "        first = False\n",
    "        period_01    = dict_clients_period[datex]             # dataframe de la 1ère période\n",
    "    else:\n",
    "        #print(\"Jusqu\\'au \", date_prev,\" et \", datex)\n",
    "        period_courant = dict_clients_period[datex]           # dataframe de la période courante\n",
    "            \n",
    "        rand_score.append(metrics.adjusted_rand_score(period_01['cluster'], period_courant['cluster']))\n",
    "        \n",
    "        dict_score[datex] = metrics.adjusted_rand_score(period_01['cluster'], period_courant['cluster'])\n",
    "        \n",
    "    date_prev = datex\n",
    "\n",
    "print(\"Rand Score ajusté DBSCAN :\\n\", rand_score)\n"
   ]
  },
  {
   "cell_type": "code",
   "execution_count": 67,
   "metadata": {},
   "outputs": [
    {
     "data": {
      "image/png": "[encoded data removed]",
      "text/plain": [
       "<Figure size 936x288 with 1 Axes>"
      ]
     },
     "metadata": {
      "needs_background": "light"
     },
     "output_type": "display_data"
    }
   ],
   "source": [
    "# Affichage de l'évolution du rand score ajusté\n",
    "\n",
    "df_score = pd.DataFrame(list(dict_score.items()),  columns=['date', 'score'])\n",
    "\n",
    "df_score['datetime'] = pd.to_datetime(df_score['date'])\n",
    "value_month = df_score[['datetime', 'score']].copy()\n",
    "value_month.set_index('datetime', inplace=True)\n",
    "\n",
    "fig, ax = plt.subplots(figsize=(13, 4))\n",
    "ax.plot(value_month.index, value_month.values)\n",
    "fig.autofmt_xdate()\n",
    "ax.fmt_xdata = mdates.DateFormatter('%Y-%m')\n",
    "ax.set_title('Rand score ajusté DBSCAN')\n",
    "fig.savefig(\"rand_score_2\")\n",
    "plt.show()"
   ]
  },
  {
   "cell_type": "code",
   "execution_count": null,
   "metadata": {},
   "outputs": [],
   "source": []
  }
 ],
 "metadata": {
  "kernelspec": {
   "display_name": "Python 3",
   "language": "python",
   "name": "python3"
  },
  "language_info": {
   "codemirror_mode": {
    "name": "ipython",
    "version": 3
   },
   "file_extension": ".py",
   "mimetype": "text/x-python",
   "name": "python",
   "nbconvert_exporter": "python",
   "pygments_lexer": "ipython3",
   "version": "3.7.0"
  }
 },
 "nbformat": 4,
 "nbformat_minor": 2
}
